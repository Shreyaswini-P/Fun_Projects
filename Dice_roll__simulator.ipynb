{
  "nbformat": 4,
  "nbformat_minor": 0,
  "metadata": {
    "colab": {
      "name": "Dice_roll_ simulator.ipynb",
      "provenance": []
    },
    "kernelspec": {
      "name": "python3",
      "display_name": "Python 3"
    },
    "language_info": {
      "name": "python"
    }
  },
  "cells": [
    {
      "cell_type": "code",
      "metadata": {
        "colab": {
          "base_uri": "https://localhost:8080/"
        },
        "id": "SGme2ag1RNkk",
        "outputId": "4a8d99f1-8365-44d4-f854-9a723f8e4405"
      },
      "source": [
        "import random \n",
        "while True:     \n",
        "     print(''' 1. roll the dice             2. exit     ''')    \n",
        "     user = int(input(\"what you want to do\\n\"))     \n",
        "     if user==1:         \n",
        "        number = random.randint(1,6)         \n",
        "        print(number)     \n",
        "     else:         \n",
        "        break"
      ],
      "execution_count": 1,
      "outputs": [
        {
          "output_type": "stream",
          "text": [
            " 1. roll the dice             2. exit     \n",
            "what you want to do\n",
            "1\n",
            "1\n",
            " 1. roll the dice             2. exit     \n",
            "what you want to do\n",
            "1\n",
            "1\n",
            " 1. roll the dice             2. exit     \n",
            "what you want to do\n",
            "1\n",
            "3\n",
            " 1. roll the dice             2. exit     \n",
            "what you want to do\n",
            "1\n",
            "3\n",
            " 1. roll the dice             2. exit     \n",
            "what you want to do\n",
            "1\n",
            "2\n",
            " 1. roll the dice             2. exit     \n",
            "what you want to do\n",
            "1\n",
            "6\n",
            " 1. roll the dice             2. exit     \n",
            "what you want to do\n",
            "1\n",
            "5\n",
            " 1. roll the dice             2. exit     \n",
            "what you want to do\n",
            "2\n"
          ],
          "name": "stdout"
        }
      ]
    },
    {
      "cell_type": "code",
      "metadata": {
        "id": "0rBefkWuRQk4"
      },
      "source": [
        ""
      ],
      "execution_count": null,
      "outputs": []
    }
  ]
}
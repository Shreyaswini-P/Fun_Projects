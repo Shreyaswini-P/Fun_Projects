{
  "nbformat": 4,
  "nbformat_minor": 0,
  "metadata": {
    "colab": {
      "name": "Guess_the_number_game.ipynb",
      "provenance": []
    },
    "kernelspec": {
      "name": "python3",
      "display_name": "Python 3"
    },
    "language_info": {
      "name": "python"
    }
  },
  "cells": [
    {
      "cell_type": "code",
      "metadata": {
        "colab": {
          "base_uri": "https://localhost:8080/"
        },
        "id": "qX9Oy6UvQPIf",
        "outputId": "3a0eea19-15c6-456f-8516-ad54c96b1071"
      },
      "source": [
        "import random\n",
        "number = random.randint(1,10)\n",
        "for i in range(0,3):\n",
        "    user = int(input(\"guess the number \"))\n",
        "    if user == number:\n",
        "        print(\"Hurray!!\")\n",
        "        print(f\"you guessed the number right it's {number}\")\n",
        "        break\n",
        "if user != number:\n",
        "    print(f\"Your guess is incorrect the number is {number}\")"
      ],
      "execution_count": 4,
      "outputs": [
        {
          "output_type": "stream",
          "text": [
            "guess the number 5\n",
            "Hurray!!\n",
            "you guessed the number right it's 5\n"
          ],
          "name": "stdout"
        }
      ]
    },
    {
      "cell_type": "code",
      "metadata": {
        "id": "lNqY_N6ZQwKW"
      },
      "source": [
        ""
      ],
      "execution_count": null,
      "outputs": []
    }
  ]
}